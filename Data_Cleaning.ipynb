{
 "cells": [
  {
   "cell_type": "markdown",
   "id": "02f72e62",
   "metadata": {},
   "source": [
    "# Data cleaning passengers by terminal dataset - Team 86"
   ]
  },
  {
   "cell_type": "markdown",
   "id": "38ac1344",
   "metadata": {},
   "source": [
    "The dataset downloaded from the platform datos.gov.co  (https://www.datos.gov.co/Transporte/Operaci-n-de-pasajeros-y-despacho-de-veh-culos-en-/eh75-8ah6) have completeness and standardization attributes, so the data cleaning is mainly focused on the transformation of the passenger variable and on the aggregation of other fields such as the name of the municipality and department."
   ]
  },
  {
   "cell_type": "code",
   "execution_count": 1,
   "id": "4c2e583a",
   "metadata": {},
   "outputs": [],
   "source": [
    "# Import pandas library\n",
    "import pandas as pd"
   ]
  },
  {
   "cell_type": "code",
   "execution_count": 2,
   "id": "15c9abcc",
   "metadata": {},
   "outputs": [],
   "source": [
    "# Load the dataset from datos.gov.co and transform it into a data frame\n",
    "\n",
    "path = 'Operacion_de_pasajeros_terrestres_jun2021.csv'\n",
    "df = pd.read_csv(path, parse_dates = ['FECHA_DESPACHO'], dtype = {\"PASAJEROS\" : \"string\"})"
   ]
  },
  {
   "cell_type": "code",
   "execution_count": 3,
   "id": "af1b7faf",
   "metadata": {},
   "outputs": [],
   "source": [
    "#If the 'PASSENGERS' characteristic is a string, apply the following cleaning on the data to convert the field to numeric\n",
    "pasajeros = df[\"PASAJEROS\"]\n",
    "pasajeros = pasajeros.str.strip(\"\")\n",
    "pasajeros = pasajeros.str.replace(',','', regex = False)\n",
    "df[\"PASAJEROS_CLEAN\"] = pasajeros\n",
    "df[\"PASAJEROS_CLEAN\"] = pd.to_numeric(df[\"PASAJEROS_CLEAN\"])"
   ]
  },
  {
   "cell_type": "code",
   "execution_count": 4,
   "id": "8a758cce",
   "metadata": {},
   "outputs": [],
   "source": [
    "# remove the following outlier\n",
    "df = df.drop(379052)"
   ]
  },
  {
   "cell_type": "code",
   "execution_count": 5,
   "id": "3a57d20a",
   "metadata": {},
   "outputs": [],
   "source": [
    "# Load the dataset of departments and municipalities of Colombia to extract the names\n",
    "path = 'Departamentos_y_municipios_de_Colombia.csv'\n",
    "df2 = pd.read_csv(path, dtype = {\"CÓDIGO DANE DEL MUNICIPIO\" : \"string\"})"
   ]
  },
  {
   "cell_type": "code",
   "execution_count": 6,
   "id": "98dabc10",
   "metadata": {},
   "outputs": [],
   "source": [
    "# Transform the feature 'CÓDIGO DANE DEL MUNICIPIO' to numeric from the dataset about departments and municipalities\n",
    "municipios = df2[\"CÓDIGO DANE DEL MUNICIPIO\"]\n",
    "municipios = municipios.str.replace(',','', regex = False)\n",
    "df2[\"CÓDIGO DANE DEL MUNICIPIO_CLEAN\"] = municipios\n",
    "df2[\"CÓDIGO DANE DEL MUNICIPIO_CLEAN\"] = pd.to_numeric(df2[\"CÓDIGO DANE DEL MUNICIPIO_CLEAN\"])"
   ]
  },
  {
   "cell_type": "code",
   "execution_count": 7,
   "id": "deb3bb4c",
   "metadata": {},
   "outputs": [],
   "source": [
    "# Create features and merge on dataframe 'df'\n",
    "df['MUNICIPIO_ORIGEN'] = df['MUNICIPIO_ORIGEN_RUTA'].map(df2.set_index('CÓDIGO DANE DEL MUNICIPIO_CLEAN')['MUNICIPIO'])\n",
    "df['DEPARTAMENTO_ORIGEN'] = df['MUNICIPIO_ORIGEN_RUTA'].map(df2.set_index('CÓDIGO DANE DEL MUNICIPIO_CLEAN')['DEPARTAMENTO'])\n",
    "df['REGION_ORIGEN'] = df['MUNICIPIO_ORIGEN_RUTA'].map(df2.set_index('CÓDIGO DANE DEL MUNICIPIO_CLEAN')['REGION'])\n",
    "\n",
    "df['MUNICIPIO_DESTINO'] = df['MUNICIPIO_DESTINO_RUTA'].map(df2.set_index('CÓDIGO DANE DEL MUNICIPIO_CLEAN')['MUNICIPIO'])\n",
    "df['DEPARTAMENTO_DESTINO'] = df['MUNICIPIO_DESTINO_RUTA'].map(df2.set_index('CÓDIGO DANE DEL MUNICIPIO_CLEAN')['DEPARTAMENTO'])\n",
    "df['REGION_DESTINO'] = df['MUNICIPIO_DESTINO_RUTA'].map(df2.set_index('CÓDIGO DANE DEL MUNICIPIO_CLEAN')['REGION'])"
   ]
  },
  {
   "cell_type": "code",
   "execution_count": 8,
   "id": "7233a6e6",
   "metadata": {
    "scrolled": true
   },
   "outputs": [],
   "source": [
    "# Remove duplicate features\n",
    "df=df.drop(columns = \"PASAJEROS\")"
   ]
  },
  {
   "cell_type": "code",
   "execution_count": 9,
   "id": "1807de3a",
   "metadata": {},
   "outputs": [
    {
     "data": {
      "text/plain": [
       "TERMINAL                          object\n",
       "CLASE_VEHICULO                    object\n",
       "NIVEL_SERVICIO                    object\n",
       "MUNICIPIO_ORIGEN_RUTA              int64\n",
       "MUNICIPIO_DESTINO_RUTA             int64\n",
       "FECHA_DESPACHO            datetime64[ns]\n",
       "HORA_DESPACHO                      int64\n",
       "TIPO_DESPACHO                     object\n",
       "DESPACHOS                          int64\n",
       "PASAJEROS_CLEAN                    int64\n",
       "MUNICIPIO_ORIGEN                  object\n",
       "DEPARTAMENTO_ORIGEN               object\n",
       "REGION_ORIGEN                     object\n",
       "MUNICIPIO_DESTINO                 object\n",
       "DEPARTAMENTO_DESTINO              object\n",
       "REGION_DESTINO                    object\n",
       "dtype: object"
      ]
     },
     "execution_count": 9,
     "metadata": {},
     "output_type": "execute_result"
    }
   ],
   "source": [
    "# validate the type of each variable\n",
    "df.dtypes"
   ]
  },
  {
   "cell_type": "code",
   "execution_count": 10,
   "id": "a53005fa",
   "metadata": {},
   "outputs": [
    {
     "data": {
      "text/html": [
       "<div>\n",
       "<style scoped>\n",
       "    .dataframe tbody tr th:only-of-type {\n",
       "        vertical-align: middle;\n",
       "    }\n",
       "\n",
       "    .dataframe tbody tr th {\n",
       "        vertical-align: top;\n",
       "    }\n",
       "\n",
       "    .dataframe thead th {\n",
       "        text-align: right;\n",
       "    }\n",
       "</style>\n",
       "<table border=\"1\" class=\"dataframe\">\n",
       "  <thead>\n",
       "    <tr style=\"text-align: right;\">\n",
       "      <th></th>\n",
       "      <th>TERMINAL</th>\n",
       "      <th>CLASE_VEHICULO</th>\n",
       "      <th>NIVEL_SERVICIO</th>\n",
       "      <th>MUNICIPIO_ORIGEN_RUTA</th>\n",
       "      <th>MUNICIPIO_DESTINO_RUTA</th>\n",
       "      <th>FECHA_DESPACHO</th>\n",
       "      <th>HORA_DESPACHO</th>\n",
       "      <th>TIPO_DESPACHO</th>\n",
       "      <th>DESPACHOS</th>\n",
       "      <th>PASAJEROS_CLEAN</th>\n",
       "      <th>MUNICIPIO_ORIGEN</th>\n",
       "      <th>DEPARTAMENTO_ORIGEN</th>\n",
       "      <th>REGION_ORIGEN</th>\n",
       "      <th>MUNICIPIO_DESTINO</th>\n",
       "      <th>DEPARTAMENTO_DESTINO</th>\n",
       "      <th>REGION_DESTINO</th>\n",
       "    </tr>\n",
       "  </thead>\n",
       "  <tbody>\n",
       "    <tr>\n",
       "      <th>0</th>\n",
       "      <td>T.T. DE BOGOTÁ NORTE</td>\n",
       "      <td>MICROBUS</td>\n",
       "      <td>LUJO</td>\n",
       "      <td>11001</td>\n",
       "      <td>15759</td>\n",
       "      <td>2021-03-01</td>\n",
       "      <td>8</td>\n",
       "      <td>TRANSITO</td>\n",
       "      <td>2</td>\n",
       "      <td>0</td>\n",
       "      <td>Bogotá D.C.</td>\n",
       "      <td>Bogotá D.C.</td>\n",
       "      <td>Región Centro Oriente</td>\n",
       "      <td>Sogamoso</td>\n",
       "      <td>Boyacá</td>\n",
       "      <td>Región Centro Oriente</td>\n",
       "    </tr>\n",
       "    <tr>\n",
       "      <th>1</th>\n",
       "      <td>T.T. DE BOGOTÁ SALITRE</td>\n",
       "      <td>BUS</td>\n",
       "      <td>LUJO</td>\n",
       "      <td>11001</td>\n",
       "      <td>76001</td>\n",
       "      <td>2021-03-12</td>\n",
       "      <td>11</td>\n",
       "      <td>ORIGEN</td>\n",
       "      <td>4</td>\n",
       "      <td>45</td>\n",
       "      <td>Bogotá D.C.</td>\n",
       "      <td>Bogotá D.C.</td>\n",
       "      <td>Región Centro Oriente</td>\n",
       "      <td>Cali</td>\n",
       "      <td>Valle del Cauca</td>\n",
       "      <td>Región Pacífico</td>\n",
       "    </tr>\n",
       "    <tr>\n",
       "      <th>2</th>\n",
       "      <td>T.T. DE CALI</td>\n",
       "      <td>BUSETA</td>\n",
       "      <td>BASICO</td>\n",
       "      <td>76001</td>\n",
       "      <td>52378</td>\n",
       "      <td>2021-01-09</td>\n",
       "      <td>6</td>\n",
       "      <td>ORIGEN</td>\n",
       "      <td>1</td>\n",
       "      <td>3</td>\n",
       "      <td>Cali</td>\n",
       "      <td>Valle del Cauca</td>\n",
       "      <td>Región Pacífico</td>\n",
       "      <td>La Cruz</td>\n",
       "      <td>Nariño</td>\n",
       "      <td>Región Pacífico</td>\n",
       "    </tr>\n",
       "    <tr>\n",
       "      <th>3</th>\n",
       "      <td>T.T. DE MELGAR</td>\n",
       "      <td>MICROBUS</td>\n",
       "      <td>BASICO</td>\n",
       "      <td>73449</td>\n",
       "      <td>25488</td>\n",
       "      <td>2021-02-28</td>\n",
       "      <td>12</td>\n",
       "      <td>ORIGEN</td>\n",
       "      <td>1</td>\n",
       "      <td>1</td>\n",
       "      <td>Melgar</td>\n",
       "      <td>Tolima</td>\n",
       "      <td>Región Centro Sur</td>\n",
       "      <td>Nilo</td>\n",
       "      <td>Cundinamarca</td>\n",
       "      <td>Región Centro Oriente</td>\n",
       "    </tr>\n",
       "    <tr>\n",
       "      <th>4</th>\n",
       "      <td>T.T. DE MANIZALES</td>\n",
       "      <td>MICROBUS</td>\n",
       "      <td>LUJO</td>\n",
       "      <td>17001</td>\n",
       "      <td>17174</td>\n",
       "      <td>2021-01-28</td>\n",
       "      <td>20</td>\n",
       "      <td>ORIGEN</td>\n",
       "      <td>1</td>\n",
       "      <td>13</td>\n",
       "      <td>Manizales</td>\n",
       "      <td>Caldas</td>\n",
       "      <td>Región Eje Cafetero - Antioquia</td>\n",
       "      <td>Chinchiná</td>\n",
       "      <td>Caldas</td>\n",
       "      <td>Región Eje Cafetero - Antioquia</td>\n",
       "    </tr>\n",
       "  </tbody>\n",
       "</table>\n",
       "</div>"
      ],
      "text/plain": [
       "                 TERMINAL CLASE_VEHICULO NIVEL_SERVICIO  \\\n",
       "0    T.T. DE BOGOTÁ NORTE       MICROBUS           LUJO   \n",
       "1  T.T. DE BOGOTÁ SALITRE            BUS           LUJO   \n",
       "2            T.T. DE CALI         BUSETA         BASICO   \n",
       "3          T.T. DE MELGAR       MICROBUS         BASICO   \n",
       "4       T.T. DE MANIZALES       MICROBUS           LUJO   \n",
       "\n",
       "   MUNICIPIO_ORIGEN_RUTA  MUNICIPIO_DESTINO_RUTA FECHA_DESPACHO  \\\n",
       "0                  11001                   15759     2021-03-01   \n",
       "1                  11001                   76001     2021-03-12   \n",
       "2                  76001                   52378     2021-01-09   \n",
       "3                  73449                   25488     2021-02-28   \n",
       "4                  17001                   17174     2021-01-28   \n",
       "\n",
       "   HORA_DESPACHO TIPO_DESPACHO  DESPACHOS  PASAJEROS_CLEAN MUNICIPIO_ORIGEN  \\\n",
       "0              8      TRANSITO          2                0      Bogotá D.C.   \n",
       "1             11        ORIGEN          4               45      Bogotá D.C.   \n",
       "2              6        ORIGEN          1                3             Cali   \n",
       "3             12        ORIGEN          1                1           Melgar   \n",
       "4             20        ORIGEN          1               13        Manizales   \n",
       "\n",
       "  DEPARTAMENTO_ORIGEN                    REGION_ORIGEN MUNICIPIO_DESTINO  \\\n",
       "0         Bogotá D.C.            Región Centro Oriente          Sogamoso   \n",
       "1         Bogotá D.C.            Región Centro Oriente              Cali   \n",
       "2     Valle del Cauca                  Región Pacífico           La Cruz   \n",
       "3              Tolima                Región Centro Sur              Nilo   \n",
       "4              Caldas  Región Eje Cafetero - Antioquia         Chinchiná   \n",
       "\n",
       "  DEPARTAMENTO_DESTINO                   REGION_DESTINO  \n",
       "0               Boyacá            Región Centro Oriente  \n",
       "1      Valle del Cauca                  Región Pacífico  \n",
       "2               Nariño                  Región Pacífico  \n",
       "3         Cundinamarca            Región Centro Oriente  \n",
       "4               Caldas  Región Eje Cafetero - Antioquia  "
      ]
     },
     "execution_count": 10,
     "metadata": {},
     "output_type": "execute_result"
    }
   ],
   "source": [
    "# Validate the data\n",
    "df.head(5)"
   ]
  },
  {
   "cell_type": "code",
   "execution_count": 11,
   "id": "398f191f",
   "metadata": {},
   "outputs": [],
   "source": [
    "# Export the clean data\n",
    "df.to_csv('data_clean.csv', index=False)"
   ]
  }
 ],
 "metadata": {
  "kernelspec": {
   "display_name": "Python 3",
   "language": "python",
   "name": "python3"
  },
  "language_info": {
   "codemirror_mode": {
    "name": "ipython",
    "version": 3
   },
   "file_extension": ".py",
   "mimetype": "text/x-python",
   "name": "python",
   "nbconvert_exporter": "python",
   "pygments_lexer": "ipython3",
   "version": "3.8.8"
  }
 },
 "nbformat": 4,
 "nbformat_minor": 5
}
