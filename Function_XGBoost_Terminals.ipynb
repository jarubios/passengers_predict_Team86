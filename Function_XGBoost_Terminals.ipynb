{
 "cells": [
  {
   "cell_type": "code",
   "execution_count": 1,
   "id": "29a8e1d9",
   "metadata": {},
   "outputs": [
    {
     "data": {
      "text/html": [
       "<style type='text/css'>\n",
       ".datatable table.frame { margin-bottom: 0; }\n",
       ".datatable table.frame thead { border-bottom: none; }\n",
       ".datatable table.frame tr.coltypes td {  color: #FFFFFF;  line-height: 6px;  padding: 0 0.5em;}\n",
       ".datatable .bool    { background: #DDDD99; }\n",
       ".datatable .object  { background: #565656; }\n",
       ".datatable .int     { background: #5D9E5D; }\n",
       ".datatable .float   { background: #4040CC; }\n",
       ".datatable .str     { background: #CC4040; }\n",
       ".datatable .time    { background: #40CC40; }\n",
       ".datatable .row_index {  background: var(--jp-border-color3);  border-right: 1px solid var(--jp-border-color0);  color: var(--jp-ui-font-color3);  font-size: 9px;}\n",
       ".datatable .frame tbody td { text-align: left; }\n",
       ".datatable .frame tr.coltypes .row_index {  background: var(--jp-border-color0);}\n",
       ".datatable th:nth-child(2) { padding-left: 12px; }\n",
       ".datatable .hellipsis {  color: var(--jp-cell-editor-border-color);}\n",
       ".datatable .vellipsis {  background: var(--jp-layout-color0);  color: var(--jp-cell-editor-border-color);}\n",
       ".datatable .na {  color: var(--jp-cell-editor-border-color);  font-size: 80%;}\n",
       ".datatable .sp {  opacity: 0.25;}\n",
       ".datatable .footer { font-size: 9px; }\n",
       ".datatable .frame_dimensions {  background: var(--jp-border-color3);  border-top: 1px solid var(--jp-border-color0);  color: var(--jp-ui-font-color3);  display: inline-block;  opacity: 0.6;  padding: 1px 10px 1px 5px;}\n",
       "</style>\n"
      ],
      "text/plain": [
       "<IPython.core.display.HTML object>"
      ]
     },
     "metadata": {},
     "output_type": "display_data"
    }
   ],
   "source": [
    "import pandas as pd\n",
    "import matplotlib.pyplot as plt\n",
    "import seaborn as sns\n",
    "import numpy as np\n",
    "import sklearn\n",
    "import datatable as dt\n",
    "import xgboost as xgb\n",
    "import datetime as dt\n",
    "import pickle\n",
    "\n",
    "from sklearn.model_selection import train_test_split\n",
    "from sklearn.model_selection import KFold\n",
    "from sklearn.model_selection import cross_val_score\n",
    "from xgboost import XGBRegressor\n",
    "from sklearn.model_selection import RandomizedSearchCV\n",
    "from sklearn.metrics import mean_squared_error, r2_score"
   ]
  },
  {
   "cell_type": "code",
   "execution_count": 2,
   "id": "714729d1",
   "metadata": {},
   "outputs": [],
   "source": [
    "# Load the dataset\n",
    "df = pd.read_csv('data_clean.csv', parse_dates = ['FECHA_DESPACHO'])"
   ]
  },
  {
   "cell_type": "code",
   "execution_count": 3,
   "id": "5c10dc34",
   "metadata": {},
   "outputs": [],
   "source": [
    "# drop unnecessary features\n",
    "df.drop(['MUNICIPIO_ORIGEN_RUTA','MUNICIPIO_DESTINO_RUTA', 'PASAJEROS'], axis=1, inplace=True)\n",
    "df.rename(columns={'PASAJEROS_CLEAN':'PASAJEROS'}, inplace=True)\n",
    "df.drop(377120,inplace=True)"
   ]
  },
  {
   "cell_type": "code",
   "execution_count": 4,
   "id": "4a90db69",
   "metadata": {},
   "outputs": [],
   "source": [
    "# Function to run XGBoost model, obtain results of prefrormance and save model .pkl in root folder\n",
    "\n",
    "def XGBoost_terminals(name_ter):\n",
    "    df_terminal =df[df['TERMINAL'] ==name_ter]\n",
    "\n",
    "    # grouped df by key features\n",
    "\n",
    "    grouped_data=df_terminal.groupby(['FECHA_DESPACHO','HORA_DESPACHO','DEPARTAMENTO_DESTINO',\n",
    "                                       'MUNICIPIO_DESTINO'])['PASAJEROS'].agg([np.sum]).reset_index()\n",
    "    grouped_data = grouped_data.rename(columns={'sum':'PASAJEROS'})\n",
    "\n",
    "    #Create new features of date-time for the model\n",
    "\n",
    "    dias_festivos20_21 = ['2020-01-01', '2020-01-06', '2020-03-23', '2020-04-09', '2020-04-10', '2020-05-01', '2020-05-25',\n",
    "                 '2020-06-15', '2020-06-29', '2020-07-20', '2020-08-07', '2020-08-17', '2020-10-12', '2020-11-02',\n",
    "                 '2020-11-16', '2020-12-08', '2020-12-25', '2021-01-01', '2021-01-11', '2021-03-22', '2021-04-01', \n",
    "                 '2021-04-02', '2021-05-01', '2021-05-17', '2021-06-7', '2021-06-14', '2021-07-05', '2021-07-20',\n",
    "                 '2021-08-07', '2021-08-16', '2021-10-18', '2021-11-01', '2021-11-15', '2021-12-08', '2021-12-25']\n",
    "\n",
    "    grouped_data['FESTIVOS'] =   grouped_data['FECHA_DESPACHO'].isin(dias_festivos20_21)*1\n",
    "\n",
    "    grouped_data['dayofweek'] =  grouped_data['FECHA_DESPACHO'].dt.dayofweek\n",
    "    grouped_data['quarter'] =    grouped_data['FECHA_DESPACHO'].dt.quarter\n",
    "    grouped_data['month'] =      grouped_data['FECHA_DESPACHO'].dt.month\n",
    "    grouped_data['year'] =       grouped_data['FECHA_DESPACHO'].dt.year\n",
    "    grouped_data['dayofyear'] =  grouped_data['FECHA_DESPACHO'].dt.dayofyear\n",
    "    grouped_data['dayofmonth'] = grouped_data['FECHA_DESPACHO'].dt.day\n",
    "    grouped_data['weekofyear'] = grouped_data['FECHA_DESPACHO'].dt.weekofyear\n",
    "\n",
    "    # Create key feature for dates whit mobility restriction\n",
    "\n",
    "    grouped_data[\"restriccion\"] = np.where(grouped_data['FECHA_DESPACHO']<='2020-03-26',3,\n",
    "    np.where((grouped_data['FECHA_DESPACHO'] > '2020-03-26')&(grouped_data['FECHA_DESPACHO'] <='2020-08-31'),0,\n",
    "    np.where((grouped_data['FECHA_DESPACHO'] >='2020-09-01')&(grouped_data['FECHA_DESPACHO'] <= '2021-02-28'),1,\n",
    "    np.where((grouped_data['FECHA_DESPACHO'] >='2021-03-01')&(grouped_data['FECHA_DESPACHO'] <= '2021-11-30'),2,\n",
    "    3))))\n",
    "\n",
    "    # Create new feature route\n",
    "\n",
    "    grouped_data[\"Depto_Municipio\"]=grouped_data['DEPARTAMENTO_DESTINO']+' '+grouped_data['MUNICIPIO_DESTINO']\n",
    "    \n",
    "    \n",
    "    # Prepare the model\n",
    "\n",
    "    # Set x, y\n",
    "    x_data=grouped_data.drop(['PASAJEROS','FECHA_DESPACHO','DEPARTAMENTO_DESTINO','MUNICIPIO_DESTINO'], axis=1)\n",
    "    y_data=grouped_data['PASAJEROS']\n",
    "\n",
    "    # Encoding categorical data\n",
    "    x_data_encoded=pd.get_dummies(x_data, columns=[\"Depto_Municipio\"])\n",
    "\n",
    "    # Data training and data test\n",
    "    x_train, x_test, y_train, y_test = train_test_split(x_data_encoded,y_data,test_size=0.2,random_state=42)\n",
    "    \n",
    "    # define model\n",
    "    model_terminal = XGBRegressor(objective ='reg:squarederror', n_estimators = 300, seed = 123)\n",
    "\n",
    "    # fit model\n",
    "    model_terminal.fit(x_train, y_train)\n",
    "    \n",
    "    # Evaluation of results of performance of the model\n",
    "    # Training measurement\n",
    "    predtrain_terminal = model_terminal.predict(x_train)\n",
    "    r2_score_train = r2_score(y_train,predtrain_terminal) # r2 score train\n",
    "    mse_train = mean_squared_error(y_train,predtrain_terminal) # MSE train\n",
    "    \n",
    "    # Testing measurement\n",
    "    predtest_terminal=model_terminal.predict(x_test)\n",
    "    r2_score_test = r2_score(y_test,predtest_terminal) # r2 score test\n",
    "    mse_test = mean_squared_error(y_test,predtest_terminal) # MSE test\n",
    "    \n",
    "    # Evaluation of model when difference between train and test are greater than 15%\n",
    "    train = 0\n",
    "    if ((r2_score_train - r2_score_test)<=0.15) and (train<=1):\n",
    "        # if difference in r2 score is less than 15% save model in .pkl and show results\n",
    "        rep = name_ter.replace(' ', '_')\n",
    "        rep = rep.replace('Á', 'A')\n",
    "        rep = rep.replace('Ó', 'O')\n",
    "        rep = rep.replace('Ú', 'U')\n",
    "        file_name = \"xgb_model\"+rep+\".pkl\"\n",
    "        # save\n",
    "        pickle.dump(model_terminal, open(file_name, \"wb\"))\n",
    "        # show importance features and performance results\n",
    "        xgb.plot_importance(model_terminal, ax=plt.gca(),max_num_features=20, height = 0.9)\n",
    "        r2_train = print(\"R2 Score train\", r2_score_train)\n",
    "        mse_t = print(\"MSE train\", mse_train)\n",
    "        r2_test = print(\"R2 Score test\", r2_score_test)\n",
    "        mse_t = print(\"MSE test\", mse_test)\n",
    "    elif ((r2_score_train - r2_score_test)>0.15) and (train==0):\n",
    "        # If difference in r2 score is greater than 15% we run RandomizedSearchCV to obtain better estimatator doing cross validation\n",
    "        # parameters to tune RandomizedSearchCV\n",
    "        train +=1\n",
    "        params = {\"learning_rate\": [0.1,0.01,0.05, 0.10, 0.15, 0.20, 0.25, 0.30], # Giving some ones parameters to perform on randomized search and obtain the better combination\n",
    "                 \"max_depth\": [3, 4, 5, 6, 8, 10, 12, 15],\n",
    "                 \"min_child_weight\": [1, 3, 5, 7],\n",
    "                 \"gamma\": [0.0, 0.1, 0.2, 0.3, 0.4],\n",
    "                 \"colsample_bytree\": [0.3, 0.4, 0.5, 0.7]}\n",
    "\n",
    "        # Data training and data test \n",
    "        x_train, x_test, y_train, y_test = train_test_split(x_data_encoded,y_data,test_size=0.3,random_state=42)\n",
    "\n",
    "        # create model XGBoost Regressor\n",
    "        model_terminal = XGBRegressor(objective ='reg:squarederror', seed = 123)\n",
    "\n",
    "        # create random search model and fit training and test data\n",
    "        random_search = RandomizedSearchCV(model_terminal, param_distributions=params, n_iter=5, scoring='r2', n_jobs=-1, cv=5, \n",
    "                                           verbose=3)\n",
    "        # fit model whit train and test data\n",
    "        random_search.fit(x_train, y_train)\n",
    "        \n",
    "        # create again the model with the best estimators obtained \n",
    "        model_terminal = random_search.best_estimator_\n",
    "        model_terminal.fit(x_train, y_train)\n",
    "        \n",
    "        # show importance features and performance results\n",
    "        xgb.plot_importance(model_terminal, ax=plt.gca(),max_num_features=20, height = 0.9)\n",
    "        \n",
    "        predtrain_terminal = model_terminal.predict(x_train)\n",
    "        r2_score_train = r2_score(y_train,predtrain_terminal) # r2 score train\n",
    "        mse_train = mean_squared_error(y_train,predtrain_terminal) # MSE train\n",
    "\n",
    "        predtest_terminal=model_terminal.predict(x_test)\n",
    "        r2_score_test = r2_score(y_test,predtest_terminal) # r2 score test\n",
    "        mse_test = mean_squared_error(y_test,predtest_terminal) # MSE test\n",
    "        \n",
    "        # prepare file name and save model in .pkl\n",
    "        rep = name_ter.replace(' ', '_')\n",
    "        rep = rep.replace('Á', 'A')\n",
    "        rep = rep.replace('Ó', 'O')\n",
    "        rep = rep.replace('Ú', 'U')\n",
    "        file_name = \"xgb_model\"+rep+\".pkl\"\n",
    "        # save\n",
    "        pickle.dump(model_terminal, open(file_name, \"wb\"))\n",
    "        r2_train = print(\"R2 Score train\", r2_score_train)\n",
    "        mse_t = print(\"MSE train\", mse_train)\n",
    "        r2_test = print(\"R2 Score test\", r2_score_test)\n",
    "        mse_t = print(\"MSE test\", mse_test)\n",
    "    else:\n",
    "        pass\n",
    "        \n",
    "    return print(\"Model \",file_name,\" has save in root folder\")"
   ]
  },
  {
   "cell_type": "code",
   "execution_count": 5,
   "id": "f1077dcf",
   "metadata": {},
   "outputs": [
    {
     "name": "stderr",
     "output_type": "stream",
     "text": [
      "<ipython-input-4-d85c9a2d4ba7>:28: FutureWarning: Series.dt.weekofyear and Series.dt.week have been deprecated.  Please use Series.dt.isocalendar().week instead.\n",
      "  grouped_data['weekofyear'] = grouped_data['FECHA_DESPACHO'].dt.weekofyear\n"
     ]
    },
    {
     "name": "stdout",
     "output_type": "stream",
     "text": [
      "R2 Score train 0.8332428419592123\n",
      "MSE train 105.15341773547875\n",
      "R2 Score test 0.7917307112592471\n",
      "MSE test 138.8645141022867\n",
      "Model  xgb_modelT.T._DE_MANIZALES.pkl  has save in root folder\n"
     ]
    },
    {
     "data": {
      "image/png": "[encoded data removed]",
      "text/plain": [
       "<Figure size 432x288 with 1 Axes>"
      ]
     },
     "metadata": {
      "needs_background": "light"
     },
     "output_type": "display_data"
    }
   ],
   "source": [
    "XGBoost_terminals('T.T. DE MANIZALES')"
   ]
  }
 ],
 "metadata": {
  "kernelspec": {
   "display_name": "Python 3",
   "language": "python",
   "name": "python3"
  },
  "language_info": {
   "codemirror_mode": {
    "name": "ipython",
    "version": 3
   },
   "file_extension": ".py",
   "mimetype": "text/x-python",
   "name": "python",
   "nbconvert_exporter": "python",
   "pygments_lexer": "ipython3",
   "version": "3.8.10"
  }
 },
 "nbformat": 4,
 "nbformat_minor": 5
}
